{
 "cells": [
  {
   "cell_type": "code",
   "execution_count": 30,
   "metadata": {},
   "outputs": [
    {
     "data": {
      "text/plain": [
       "'0.25.1'"
      ]
     },
     "execution_count": 30,
     "metadata": {},
     "output_type": "execute_result"
    }
   ],
   "source": [
    "import pandas\n",
    "pandas.__version__"
   ]
  },
  {
   "cell_type": "code",
   "execution_count": 47,
   "metadata": {},
   "outputs": [
    {
     "name": "stdout",
     "output_type": "stream",
     "text": [
      "23.49230769230769\n"
     ]
    }
   ],
   "source": [
    "#Google Maps determined the total distance in miles between NYC \n",
    "#and Key West, FL. To determine how many days it will take to reach\n",
    "#Key West, the number of miles divided by the approximate 65 miles ridden daily\n",
    "#gave us the number of days it will take.\n",
    "\n",
    "days = (1527/65)\n",
    "\n",
    "print (days)"
   ]
  },
  {
   "cell_type": "code",
   "execution_count": 52,
   "metadata": {},
   "outputs": [
    {
     "name": "stdout",
     "output_type": "stream",
     "text": [
      "{1: 55,\n",
      " 2: 120,\n",
      " 3: 185,\n",
      " 4: 250,\n",
      " 5: 315,\n",
      " 6: 380,\n",
      " 7: 445,\n",
      " 8: 510,\n",
      " 9: 575,\n",
      " 10: 640,\n",
      " 11: 705,\n",
      " 12: 770,\n",
      " 13: 835,\n",
      " 14: 900,\n",
      " 15: 965,\n",
      " 16: 1030,\n",
      " 17: 1095,\n",
      " 18: 1160,\n",
      " 19: 1225,\n",
      " 20: 1290,\n",
      " 21: 1355,\n",
      " 22: 1420,\n",
      " 23: 1485,\n",
      " 24: 1527}\n"
     ]
    }
   ],
   "source": [
    "import pandas as pd\n",
    "\n",
    "from pprint import pprint\n",
    "\n",
    "Total_miles [day] = {}\n",
    "Total_miles[1] = 55\n",
    "Total_miles[2] = 120\n",
    "Total_miles[3] = 185\n",
    "Total_miles[4] = 250\n",
    "Total_miles[5] = 315\n",
    "Total_miles[6] = 380\n",
    "Total_miles[7] = 445\n",
    "Total_miles[8] = 510\n",
    "Total_miles[9] = 575\n",
    "Total_miles[10] = 640\n",
    "Total_miles[11] = 705\n",
    "Total_miles[12] = 770\n",
    "Total_miles[13] = 835\n",
    "Total_miles[14] = 900\n",
    "Total_miles[15] = 965\n",
    "Total_miles[16] = 1030\n",
    "Total_miles[17] = 1095\n",
    "Total_miles[18] = 1160\n",
    "Total_miles[19] = 1225\n",
    "Total_miles[20] = 1290\n",
    "Total_miles[21] = 1355\n",
    "Total_miles[22] = 1420\n",
    "Total_miles[23] = 1485\n",
    "Total_miles[24] = 1527\n",
    "\n",
    "pprint (Total_miles)"
   ]
  },
  {
   "cell_type": "code",
   "execution_count": 33,
   "metadata": {},
   "outputs": [
    {
     "name": "stdout",
     "output_type": "stream",
     "text": [
      "<class 'pandas.core.series.Series'>\n"
     ]
    },
    {
     "data": {
      "text/plain": [
       "1       55\n",
       "2      120\n",
       "3      185\n",
       "4      250\n",
       "5      315\n",
       "6      380\n",
       "7      445\n",
       "8      510\n",
       "9      575\n",
       "10     640\n",
       "11     705\n",
       "12     770\n",
       "13     835\n",
       "14     900\n",
       "15     965\n",
       "16    1030\n",
       "17    1095\n",
       "18    1160\n",
       "19    1225\n",
       "20    1290\n",
       "21    1355\n",
       "22    1420\n",
       "23    1485\n",
       "24    1527\n",
       "dtype: int64"
      ]
     },
     "execution_count": 33,
     "metadata": {},
     "output_type": "execute_result"
    }
   ],
   "source": [
    "Total_miles = pd.Series(Total_miles)\n",
    "print (type(Total_miles))\n",
    "Total_miles"
   ]
  },
  {
   "cell_type": "code",
   "execution_count": 49,
   "metadata": {},
   "outputs": [
    {
     "name": "stdout",
     "output_type": "stream",
     "text": [
      "Day 1: 55 miles\n",
      "Day 2: 65 miles\n",
      "Day 3: 65 miles\n",
      "Day 4: 65 miles\n",
      "Day 5: 65 miles\n",
      "Day 6: 65 miles\n",
      "Day 7: 65 miles\n",
      "Day 8: 65 miles\n",
      "Day 9: 65 miles\n",
      "Day 10: 65 miles\n",
      "Day 11: 65 miles\n",
      "Day 12: 65 miles\n",
      "Day 13: 65 miles\n",
      "Day 14: 65 miles\n",
      "Day 15: 65 miles\n",
      "Day 16: 65 miles\n",
      "Day 17: 65 miles\n",
      "Day 18: 65 miles\n",
      "Day 19: 65 miles\n",
      "Day 20: 65 miles\n",
      "Day 21: 65 miles\n",
      "Day 22: 65 miles\n",
      "Day 23: 65 miles\n",
      "Day 24: 42 miles\n"
     ]
    }
   ],
   "source": [
    "daily_miles = {}\n",
    "prior_day = 0\n",
    "\n",
    "for day, odo_miles in Total_miles.items():\n",
    "    present_miles = odo_miles - prior_day\n",
    "    daily_miles[day] = present_miles\n",
    "    print('Day ' + str(day) + ': ' + str(present_miles) + ' miles')\n",
    "    prior_day = odo_miles"
   ]
  },
  {
   "cell_type": "code",
   "execution_count": 39,
   "metadata": {},
   "outputs": [
    {
     "data": {
      "image/png": "[encoded data removed]",
      "text/plain": [
       "<Figure size 432x288 with 1 Axes>"
      ]
     },
     "metadata": {
      "needs_background": "light"
     },
     "output_type": "display_data"
    }
   ],
   "source": [
    "import numpy as np\n",
    "from matplotlib import pyplot\n",
    "\n",
    "current = pd.Series(Total_miles.iloc[0])\n",
    "current.index += 1\n",
    "\n",
    "next_day = pd.Series(np.diff(Total_miles))\n",
    "next_day.index += 2\n",
    "\n",
    "new = [current, next_day]\n",
    "daily_record = pd.concat(new)\n",
    "\n",
    "pyplot.plot(daily_record, ls=':', marker='o')\n",
    "pyplot.suptitle('Bike Trip from NYC to KEY WEST, FL')\n",
    "pyplot.xlabel('Days')\n",
    "pyplot.ylabel('Miles Ridden')\n",
    "pyplot.grid()\n",
    "pyplot.show()"
   ]
  },
  {
   "cell_type": "code",
   "execution_count": null,
   "metadata": {},
   "outputs": [],
   "source": []
  }
 ],
 "metadata": {
  "kernelspec": {
   "display_name": "Python 3",
   "language": "python",
   "name": "python3"
  },
  "language_info": {
   "codemirror_mode": {
    "name": "ipython",
    "version": 3
   },
   "file_extension": ".py",
   "mimetype": "text/x-python",
   "name": "python",
   "nbconvert_exporter": "python",
   "pygments_lexer": "ipython3",
   "version": "3.7.4"
  }
 },
 "nbformat": 4,
 "nbformat_minor": 2
}
